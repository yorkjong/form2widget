{
  "nbformat": 4,
  "nbformat_minor": 0,
  "metadata": {
    "colab": {
      "provenance": [],
      "authorship_tag": "ABX9TyNbWX/ZkncdoDFq4LBHWAcr",
      "include_colab_link": true
    },
    "kernelspec": {
      "name": "python3",
      "display_name": "Python 3"
    },
    "language_info": {
      "name": "python"
    }
  },
  "cells": [
    {
      "cell_type": "markdown",
      "metadata": {
        "id": "view-in-github",
        "colab_type": "text"
      },
      "source": [
        "<a href=\"https://colab.research.google.com/github/yorkjong/widgetify/blob/main/notebooks/example_colab_forms.ipynb\" target=\"_parent\"><img src=\"https://colab.research.google.com/assets/colab-badge.svg\" alt=\"Open In Colab\"/></a>"
      ]
    },
    {
      "cell_type": "markdown",
      "source": [
        "#### Install Required Packages"
      ],
      "metadata": {
        "id": "h6aWJ8MQYCYU"
      }
    },
    {
      "cell_type": "code",
      "source": [
        "print('install required packages here')"
      ],
      "metadata": {
        "id": "Asy3K1j1YDDK"
      },
      "execution_count": null,
      "outputs": []
    },
    {
      "cell_type": "markdown",
      "source": [
        "### Form  Section"
      ],
      "metadata": {
        "id": "1_xJtW9WYK_Z"
      }
    },
    {
      "cell_type": "code",
      "source": [
        "# @title Colab Form with Input Boxes {\"run\":\"auto\"}\n",
        "num = 0.88 # @param {\"type\":\"number\"}\n",
        "integer = 99 # @param {\"type\":\"integer\"}\n",
        "string = \"ABC\" # @param {\"type\":\"string\"}\n",
        "raw = 1+1 # @param {\"type\":\"raw\"}\n",
        "date = \"2024-09-19\" # @param {\"type\":\"date\"}\n",
        "\n",
        "\n",
        "print('num:', num)\n",
        "print('integer:', integer)\n",
        "print('string:', string)\n",
        "print('raw:', raw)\n",
        "print('date:', date)"
      ],
      "metadata": {
        "cellView": "form",
        "id": "PGZaxEhqFicm",
        "colab": {
          "base_uri": "https://localhost:8080/"
        },
        "outputId": "ee52dcb2-753d-40db-e7dd-878fe2fa9047"
      },
      "execution_count": 1,
      "outputs": [
        {
          "output_type": "stream",
          "name": "stdout",
          "text": [
            "num: 0.88\n",
            "integer: 99\n",
            "string: ABC\n",
            "raw: 2\n",
            "date: 2024-09-19\n"
          ]
        }
      ]
    },
    {
      "cell_type": "code",
      "source": [
        "# @title Colab Form with a Slider {\"run\":\"auto\"}\n",
        "slider = 63 # @param {\"type\":\"slider\",\"min\":0,\"max\":100,\"step\":1}\n",
        "\n",
        "print('slider:', slider)\n"
      ],
      "metadata": {
        "cellView": "form",
        "id": "aOFVR_o5oSus",
        "colab": {
          "base_uri": "https://localhost:8080/"
        },
        "outputId": "b915735d-4fe6-4674-a349-1605cc4ac460"
      },
      "execution_count": 5,
      "outputs": [
        {
          "output_type": "stream",
          "name": "stdout",
          "text": [
            "slider: 63\n"
          ]
        }
      ]
    },
    {
      "cell_type": "code",
      "source": [
        "# @title Colab Form with Dropdowns {\"run\":\"auto\"}\n",
        "meal_time = \"Breakfast\" # @param [\"Breakfast\",\"Lunch\",\"Dinner\",\"Afternoon Tea\",\"Supper\"]\n",
        "beverages = \"Water\" # @param [\"Water\",\"Coffee\",\"Tea\",\"Juice\",\"Milk\"]\n",
        "fruit = \"Apple\" # @param [\"Apple\",\"Banana\",\"Blueberry\",\"Orange\",\"Pinapple\"] {\"allow-input\":true}\n",
        "quantity = 1 # @param [\"1\",\"2\",\"3\",\"4\",\"5\",\"6\"] {\"type\":\"raw\",\"allow-input\":true}\n",
        "stars = 2 # @param [\"1\",\"2\",\"3\",\"4\",\"5\"] {\"type\":\"raw\"}\n",
        "\n",
        "\n",
        "print('meal_time:', meal_time)\n",
        "print('beverages:', beverages)\n",
        "print('fruit:', fruit)\n",
        "print('quantity:', quantity)\n",
        "print('stars:', stars, \"star\" if stars <= 1 else \"stars\")\n",
        "#"
      ],
      "metadata": {
        "cellView": "form",
        "id": "2mce4EMkpPw0",
        "colab": {
          "base_uri": "https://localhost:8080/"
        },
        "outputId": "452c92bb-0226-4df4-f459-a4dec20281bd"
      },
      "execution_count": 9,
      "outputs": [
        {
          "output_type": "stream",
          "name": "stdout",
          "text": [
            "meal_time: Breakfast\n",
            "beverages: Water\n",
            "fruit: Apple\n",
            "quantity: 1\n",
            "stars: 2 stars\n"
          ]
        }
      ]
    }
  ]
}