{
  "nbformat": 4,
  "nbformat_minor": 0,
  "metadata": {
    "colab": {
      "provenance": [],
      "authorship_tag": "ABX9TyPdMlMlzC1WlFxtLY8wAk9n",
      "include_colab_link": true
    },
    "kernelspec": {
      "name": "python3",
      "display_name": "Python 3"
    },
    "language_info": {
      "name": "python"
    }
  },
  "cells": [
    {
      "cell_type": "markdown",
      "metadata": {
        "id": "view-in-github",
        "colab_type": "text"
      },
      "source": [
        "<a href=\"https://colab.research.google.com/github/yorkjong/widgetify/blob/main/notebook/example_colab_forms.ipynb\" target=\"_parent\"><img src=\"https://colab.research.google.com/assets/colab-badge.svg\" alt=\"Open In Colab\"/></a>"
      ]
    },
    {
      "cell_type": "code",
      "source": [
        "# @title Colab Form with Input Boxes {\"run\":\"auto\"}\n",
        "raw = ABC # @param {\"type\":\"raw\"}\n",
        "string = \"ABC\" # @param {\"type\":\"string\"}\n",
        "num = 0 # @param {\"type\":\"number\"}\n",
        "integer = 0 # @param {\"type\":\"integer\"}\n",
        "date = \"2024-09-19\" # @param {\"type\":\"date\"}"
      ],
      "metadata": {
        "cellView": "form",
        "id": "PGZaxEhqFicm"
      },
      "execution_count": null,
      "outputs": []
    },
    {
      "cell_type": "code",
      "source": [
        "# @title Colab Form with a Slider {\"run\":\"auto\",\"vertical-output\":true}\n",
        "slider = 64 # @param {\"type\":\"slider\",\"min\":0,\"max\":100,\"step\":1}\n",
        "\n"
      ],
      "metadata": {
        "cellView": "form",
        "id": "aOFVR_o5oSus"
      },
      "execution_count": 5,
      "outputs": []
    },
    {
      "cell_type": "code",
      "source": [
        "# @title Colab Form with Dropdowns\n",
        "meal_time = \"Breakfast\" # @param [\"Breakfast\",\"Lunch\",\"Dinner\",\"Afternoon Tea\",\"Supper\"]\n",
        "beverages = \"Water\" # @param [\"Water\",\"Coffee\",\"Tea\",\"Juice\",\"Milk\"]\n",
        "fruit = \"Apple\" # @param [\"Apple\",\"Banana\",\"Blueberry\",\"Orange\",\"Pinapple\"] {\"allow-input\":true}\n",
        "quantity = 1 # @param [\"1\",\"2\",\"3\",\"4\",\"5\",\"6\"] {\"type\":\"raw\",\"allow-input\":true}\n",
        "stars = 5 # @param [\"1\",\"2\",\"3\",\"4\",\"5\"] {\"type\":\"raw\"}\n"
      ],
      "metadata": {
        "cellView": "form",
        "id": "2mce4EMkpPw0"
      },
      "execution_count": null,
      "outputs": []
    }
  ]
}